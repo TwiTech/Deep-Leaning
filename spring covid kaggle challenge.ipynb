{
 "cells": [
  {
   "cell_type": "code",
   "execution_count": 1,
   "id": "566a7cb0-7543-4342-814c-f3c36849a0ac",
   "metadata": {
    "tags": []
   },
   "outputs": [],
   "source": [
    "import torch\n",
    "import torch.nn as nn\n",
    "from torch.utils.data import Dataset, DataLoader\n",
    "\n",
    "import numpy as np\n",
    "import csv\n",
    "import os\n",
    "\n",
    "import matplotlib.pyplot as plt\n",
    "from matplotlib.pyplot import figure\n",
    "\n",
    "myseed = 42069\n",
    "torch.backends.cudnn.deterministic = True\n",
    "torch.backends.cudnn.benchmark = False\n",
    "np.random.seed(myseed)\n",
    "torch.manual_seed(myseed)\n",
    "if torch.cuda.is_available():\n",
    "    torch.cuda.manual_seed_all(myseed)\n",
    "    \n",
    "import warnings\n",
    "warnings.filterwarnings('ignore')"
   ]
  },
  {
   "cell_type": "code",
   "execution_count": 2,
   "id": "ab613639-cd33-418e-a234-c9138b3d7264",
   "metadata": {
    "tags": []
   },
   "outputs": [],
   "source": [
    "def get_device():\n",
    "    ''' Get device (if GPU is available, use GPU) '''\n",
    "    return 'cuda' if torch.cuda.is_available() else 'cpu'\n",
    "\n",
    "def plot_learning_curve(loss_record, title=''):\n",
    "    ''' Plot learning curve of your DNN (train & val loss) '''\n",
    "    total_steps = len(loss_record['train'])\n",
    "    x_1 = range(total_steps)\n",
    "    x_2 = x_1[::len(loss_record['train']) // len(loss_record['val'])]\n",
    "    figure(figsize=(6, 4))\n",
    "    plt.plot(x_1, loss_record['train'], c='tab:red', label='train')\n",
    "    plt.plot(x_2, loss_record['val'], c='tab:cyan', label='val')\n",
    "    plt.ylim(0.0, 5.)\n",
    "    plt.xlabel('Training steps')\n",
    "    plt.ylabel('MSE loss')\n",
    "    plt.title('Learning curve of {}'.format(title))\n",
    "    plt.legend()\n",
    "    plt.show()\n",
    "\n",
    "\n",
    "def plot_pred(dv_set, model, device, lim=35., preds=None, targets=None):\n",
    "    ''' Plot prediction of your DNN '''\n",
    "    if preds is None or targets is None:\n",
    "        model.eval()\n",
    "        preds, targets = [], []\n",
    "        for x, y in dv_set:\n",
    "            x, y = x.to(device), y.to(device)\n",
    "            with torch.no_grad():\n",
    "                pred = model(x)\n",
    "                preds.append(pred.detach().cpu())\n",
    "                targets.append(y.detach().cpu())\n",
    "        preds = torch.cat(preds, dim=0).numpy()\n",
    "        targets = torch.cat(targets, dim=0).numpy()\n",
    "\n",
    "    figure(figsize=(5, 5))\n",
    "    plt.scatter(targets, preds, c='r', alpha=0.5)\n",
    "    plt.plot([-0.2, lim], [-0.2, lim], c='b')\n",
    "    plt.xlim(-0.2, lim)\n",
    "    plt.ylim(-0.2, lim)\n",
    "    plt.xlabel('ground truth value')\n",
    "    plt.ylabel('predicted value')\n",
    "    plt.title('Ground Truth v.s. Prediction')\n",
    "    plt.show()"
   ]
  },
  {
   "cell_type": "code",
   "execution_count": 3,
   "id": "d879223d-4810-43e1-ac6a-8a3e51fa2bb6",
   "metadata": {
    "tags": []
   },
   "outputs": [
    {
     "name": "stderr",
     "output_type": "stream",
     "text": [
      "\n",
      "[notice] A new release of pip is available: 23.3.1 -> 24.0\n",
      "[notice] To update, run: python.exe -m pip install --upgrade pip\n"
     ]
    }
   ],
   "source": [
    "# Install a package to download data from Kaggle\n",
    "!pip install -q opendatasets"
   ]
  },
  {
   "cell_type": "code",
   "execution_count": 4,
   "id": "d32cba44-0278-452f-883e-fb548431f37c",
   "metadata": {
    "tags": []
   },
   "outputs": [
    {
     "name": "stderr",
     "output_type": "stream",
     "text": [
      "Traceback (most recent call last):\n",
      "  File \"<frozen runpy>\", line 198, in _run_module_as_main\n",
      "  File \"<frozen runpy>\", line 88, in _run_code\n",
      "  File \"C:\\Users\\hp\\anaconda3\\Scripts\\kaggle.exe\\__main__.py\", line 4, in <module>\n",
      "  File \"C:\\Users\\hp\\anaconda3\\Lib\\site-packages\\kaggle\\__init__.py\", line 23, in <module>\n",
      "    api.authenticate()\n",
      "  File \"C:\\Users\\hp\\anaconda3\\Lib\\site-packages\\kaggle\\api\\kaggle_api_extended.py\", line 403, in authenticate\n",
      "    raise IOError('Could not find {}. Make sure it\\'s located in'\n",
      "OSError: Could not find kaggle.json. Make sure it's located in C:\\Users\\hp\\.kaggle. Or use the environment method.\n"
     ]
    }
   ],
   "source": [
    "!kaggle competitions download -c ml2021spring-hw1"
   ]
  },
  {
   "cell_type": "code",
   "execution_count": 5,
   "id": "8808429a-fe65-4096-9549-ac97ecf43daf",
   "metadata": {
    "tags": []
   },
   "outputs": [
    {
     "name": "stdout",
     "output_type": "stream",
     "text": [
      "Skipping, found downloaded files in \".\\ml2021spring-hw1\" (use force=True to force download)\n"
     ]
    }
   ],
   "source": [
    "import opendatasets as od\n",
    "\n",
    "od.download('https://www.kaggle.com/competitions/ml2021spring-hw1')"
   ]
  },
  {
   "cell_type": "code",
   "execution_count": 6,
   "id": "c2070037-e63f-44bd-9b05-528862c59d03",
   "metadata": {},
   "outputs": [],
   "source": [
    "class COVID19Dataset(Dataset):\n",
    "    ''' Dataset for loading and preprocessing the COVID19 dataset '''\n",
    "    def __init__(self,\n",
    "                 path,\n",
    "                 mode='train',\n",
    "                 target_only=True):\n",
    "        # read and process data\n",
    "        self.mode = mode\n",
    "\n",
    "        # Read data into numpy arrays\n",
    "        with open(path, 'r') as fp:\n",
    "            data = list(csv.reader(fp))\n",
    "            data = np.array(data[1:])[:, 1:].astype(float)\n",
    "\n",
    "        if not target_only:\n",
    "            feats = list(range(93))\n",
    "        else:\n",
    "            # TODO: Using 40 states & 2 tested_positive features (indices = 57 & 75)\n",
    "            feats = [i for i in range(40) + [57, 75]]\n",
    "            pass\n",
    "\n",
    "        if mode == 'test':\n",
    "            # Testing data\n",
    "            # data: 893 x 93 (40 states + day 1 (18) + day 2 (18) + day 3 (17))\n",
    "            data = data[:, feats]\n",
    "            self.data = torch.FloatTensor(data)\n",
    "        else:\n",
    "            # Training data (train/val sets)\n",
    "            # data: 2700 x 94 (40 states + day 1 (18) + day 2 (18) + day 3 (18))\n",
    "            target = data[:, -1]\n",
    "            data = data[:, feats]\n",
    "\n",
    "            # Splitting training data into train & val sets\n",
    "            if mode == 'train':\n",
    "                indices = [i for i in range(len(data)) if i % 10 != 0]\n",
    "            elif mode == 'val':\n",
    "                indices = [i for i in range(len(data)) if i % 10 == 0]\n",
    "\n",
    "            # Convert data into PyTorch tensors\n",
    "            self.data = torch.FloatTensor(data[indices])\n",
    "            self.target = torch.FloatTensor(target[indices])\n",
    "\n",
    "        # Normalize features (you may remove this part to see what will happen)\n",
    "        self.data[:, 40:] = (self.data[:, 40:] - self.data[:, 40:].mean(dim=0, keepdim=True)) / self.data[:, 40:].std(dim=0, keepdim=True)\n",
    "\n",
    "        self.dim = self.data.shape[1]\n",
    "\n",
    "        print('Finished reading the {} set of COVID19 Dataset ({} samples found, each dim = {})'\n",
    "              .format(mode, len(self.data), self.dim))\n",
    "\n",
    "    def __getitem__(self, index):\n",
    "        # Returns one sample at a time\n",
    "        if self.mode in ['train', 'val']:\n",
    "            # For training\n",
    "            return self.data[index], self.target[index]\n",
    "        else:\n",
    "            # For testing (no target)\n",
    "            return self.data[index]\n",
    "\n",
    "    def __len__(self):\n",
    "        # Returns the size of the dataset\n",
    "        return len(self.data)"
   ]
  },
  {
   "cell_type": "code",
   "execution_count": 7,
   "id": "1392a6ff-099e-457e-923c-408ffd0818f7",
   "metadata": {
    "tags": []
   },
   "outputs": [],
   "source": [
    "def prep_dataloader(path, mode, batch_size, n_jobs=0, target_only=False):\n",
    "    ''' Generates a dataset, then is put into a dataloader. '''\n",
    "    dataset = COVID19Dataset(path, mode=mode, target_only=target_only)  # Construct dataset\n",
    "    dataloader = DataLoader(\n",
    "        dataset, batch_size,\n",
    "        shuffle=(mode == 'train'), drop_last=False,\n",
    "        num_workers=n_jobs, pin_memory=True)                            # Construct dataloader\n",
    "    return dataloader"
   ]
  },
  {
   "cell_type": "code",
   "execution_count": 8,
   "id": "e9bdacb3-13f8-482b-91c9-66831fd953d6",
   "metadata": {
    "tags": []
   },
   "outputs": [
    {
     "name": "stdout",
     "output_type": "stream",
     "text": [
      "Finished reading the train set of COVID19 Dataset (2430 samples found, each dim = 93)\n",
      "Finished reading the val set of COVID19 Dataset (270 samples found, each dim = 93)\n",
      "Finished reading the test set of COVID19 Dataset (893 samples found, each dim = 93)\n"
     ]
    }
   ],
   "source": [
    "tr_path = 'ml2021spring-hw1/covid.train.csv'  # path to training data\n",
    "tt_path = 'ml2021spring-hw1/covid.test.csv'   # path to testing data\n",
    "target_only = False                   # TODO: Using 40 states & 2 tested_positive features\n",
    "tr_set = prep_dataloader(tr_path, 'train', 270, target_only=target_only)\n",
    "vl_set = prep_dataloader(tr_path, 'val', 270, target_only=target_only)\n",
    "tt_set = prep_dataloader(tt_path, 'test', 270, target_only=target_only)"
   ]
  },
  {
   "cell_type": "code",
   "execution_count": 9,
   "id": "84976b19-1c5a-452c-9e82-b9e1c50eeb1f",
   "metadata": {
    "tags": []
   },
   "outputs": [],
   "source": [
    "class NeuralNet(nn.Module):\n",
    "    ''' A simple fully-connected deep neural network '''\n",
    "    def __init__(self, input_dim):\n",
    "        super(NeuralNet, self).__init__()\n",
    "        # Define your neural network here\n",
    "        # How to modify this model to achieve better performance?\n",
    "\n",
    "        # TODO:\n",
    "        # Define a two-layer neural network with a ReLU activation function after the first layer, no activation layer for the second layer\n",
    "        # You have 64 hidden states\n",
    "        self.linear_1 = nn.Linear(input_dim, 64)\n",
    "        self.relu = nn.ReLU()\n",
    "        self.linear_2 = nn.Linear(64, 1)\n",
    "\n",
    "    def forward(self, x):\n",
    "        ''' Given input of size (batch_size x input_dim), compute output of the network '''\n",
    "        # TODO: define your forward pass\n",
    "        x=self.linear_1(x)\n",
    "        x=self.relu(x)\n",
    "        x=self.linear_2(x)\n",
    "        return x.squeeze(1) # remove the redundant dimension (bs, 1) -> (bs, )"
   ]
  },
  {
   "cell_type": "code",
   "execution_count": 10,
   "id": "97d1ab83-6c8b-485a-83d8-eb2d0f28df5a",
   "metadata": {
    "tags": []
   },
   "outputs": [],
   "source": [
    "device = get_device()\n",
    "model = NeuralNet(tr_set.dataset.dim).to(device)"
   ]
  },
  {
   "cell_type": "code",
   "execution_count": 11,
   "id": "ba5d1db8-2880-4d47-880a-826536c0c0bb",
   "metadata": {
    "tags": []
   },
   "outputs": [],
   "source": [
    "criterion = nn.MSELoss()"
   ]
  },
  {
   "cell_type": "code",
   "execution_count": 12,
   "id": "eff6f45e-d0eb-44e2-928c-27de942611de",
   "metadata": {
    "tags": []
   },
   "outputs": [],
   "source": [
    "optimizer = torch.optim.SGD(model.parameters(), lr=0.001, momentum=0.9)"
   ]
  },
  {
   "cell_type": "code",
   "execution_count": 13,
   "id": "65d0c083-31c9-46b3-be70-614fbb7de6bb",
   "metadata": {
    "tags": []
   },
   "outputs": [
    {
     "data": {
      "text/plain": [
       "SGD (\n",
       "Parameter Group 0\n",
       "    dampening: 0\n",
       "    differentiable: False\n",
       "    foreach: None\n",
       "    lr: 0.001\n",
       "    maximize: False\n",
       "    momentum: 0.9\n",
       "    nesterov: False\n",
       "    weight_decay: 0\n",
       ")"
      ]
     },
     "execution_count": 13,
     "metadata": {},
     "output_type": "execute_result"
    }
   ],
   "source": [
    "optimizer"
   ]
  },
  {
   "cell_type": "code",
   "execution_count": 14,
   "id": "697dc649-56d7-44a5-ab7d-70ca5b0704cd",
   "metadata": {
    "tags": []
   },
   "outputs": [],
   "source": [
    "def train(tr_set, dv_set, model, criterion, optimizer, save_path, device):\n",
    "    ''' DNN training '''\n",
    "\n",
    "    n_epochs = 1000  # Maximum number of epochs\n",
    "\n",
    "    min_mse = 1000.\n",
    "    loss_record = {'train': [], 'val': []}      # for recording training loss\n",
    "    epoch = 0\n",
    "    while epoch < n_epochs:\n",
    "        model.train()                           # set model to training mode\n",
    "        for x, y in tr_set:                     # iterate through the dataloader\n",
    "            optimizer.zero_grad()               # set gradient to zero\n",
    "            x, y = x.to(device), y.to(device)   # move data to device (cpu/cuda)\n",
    "            # TODO:\n",
    "            # forward pass (compute output)\n",
    "            # compute loss and name it as mse_loss\n",
    "            # compute gradient (backpropagation)\n",
    "            # update model with optimizer\n",
    "            pred = model(x)\n",
    "            mse_loss = criterion(pred, y)\n",
    "            mse_loss.backward()\n",
    "            optimizer.step()\n",
    "\n",
    "            loss_record['train'].append(mse_loss.detach().cpu().item()) # record loss\n",
    "\n",
    "        # After each epoch, test your model on the validation (development) set.\n",
    "        val_mse = val(dv_set, model, criterion, device)\n",
    "        if val_mse < min_mse:\n",
    "            # Save model if your model improved\n",
    "            min_mse = val_mse\n",
    "            print('Saving model (epoch = {:4d}, loss = {:.4f})'\n",
    "                .format(epoch + 1, min_mse))\n",
    "            torch.save(model.state_dict(), save_path)  # Save model to specified path\n",
    "\n",
    "        epoch += 1\n",
    "        loss_record['val'].append(val_mse)\n",
    "\n",
    "    print('Finished training after {} epochs'.format(epoch))\n",
    "    return min_mse, loss_record"
   ]
  },
  {
   "cell_type": "code",
   "execution_count": 15,
   "id": "3fcf60da-a996-470c-948e-cdb3a0d3eefc",
   "metadata": {
    "tags": []
   },
   "outputs": [],
   "source": [
    "def val(dv_set, model, criterion, device):\n",
    "    model.eval()                                # set model to evalutation mode\n",
    "    total_loss = 0\n",
    "    for x, y in dv_set:                         # iterate through the dataloader\n",
    "        x, y = x.to(device), y.to(device)       # move data to device (cpu/cuda)\n",
    "        with torch.no_grad():                   # disable gradient calculation\n",
    "            pred = model(x)                     # forward pass (compute output)\n",
    "            mse_loss = criterion(pred, y)  # compute loss\n",
    "        total_loss += mse_loss.detach().cpu().item() * len(x)  # accumulate loss\n",
    "    total_loss = total_loss / len(dv_set.dataset)              # compute averaged loss\n",
    "\n",
    "    return total_loss"
   ]
  },
  {
   "cell_type": "code",
   "execution_count": 16,
   "id": "9eb99337-2758-477c-8e69-e87fc2c9ad27",
   "metadata": {
    "tags": []
   },
   "outputs": [],
   "source": [
    "def test(tt_set, model, device):\n",
    "    model.eval()                                # set model to evalutation mode\n",
    "    preds = []\n",
    "    for x in tt_set:                            # iterate through the dataloader\n",
    "        x = x.to(device)                        # move data to device (cpu/cuda)\n",
    "        with torch.no_grad():                   # disable gradient calculation\n",
    "            pred = model(x)                     # forward pass (compute output)\n",
    "            preds.append(pred.detach().cpu())   # collect prediction\n",
    "    preds = torch.cat(preds, dim=0).numpy()     # concatenate all predictions and convert to a numpy array\n",
    "    return preds"
   ]
  },
  {
   "cell_type": "code",
   "execution_count": 17,
   "id": "0fa2d1b5-916c-4894-9644-f99eaa88bedb",
   "metadata": {
    "tags": []
   },
   "outputs": [
    {
     "name": "stdout",
     "output_type": "stream",
     "text": [
      "Saving model (epoch =    1, loss = 78.8524)\n",
      "Saving model (epoch =    2, loss = 37.6170)\n",
      "Saving model (epoch =    3, loss = 26.1203)\n",
      "Saving model (epoch =    4, loss = 16.1861)\n",
      "Saving model (epoch =    5, loss = 9.7153)\n",
      "Saving model (epoch =    6, loss = 6.3701)\n",
      "Saving model (epoch =    7, loss = 5.1802)\n",
      "Saving model (epoch =    8, loss = 4.4255)\n",
      "Saving model (epoch =    9, loss = 3.8009)\n",
      "Saving model (epoch =   10, loss = 3.3691)\n",
      "Saving model (epoch =   11, loss = 3.0943)\n",
      "Saving model (epoch =   12, loss = 2.8176)\n",
      "Saving model (epoch =   13, loss = 2.6274)\n",
      "Saving model (epoch =   14, loss = 2.4542)\n",
      "Saving model (epoch =   15, loss = 2.3012)\n",
      "Saving model (epoch =   16, loss = 2.1766)\n",
      "Saving model (epoch =   17, loss = 2.0641)\n",
      "Saving model (epoch =   18, loss = 1.9399)\n",
      "Saving model (epoch =   19, loss = 1.8978)\n",
      "Saving model (epoch =   20, loss = 1.7950)\n",
      "Saving model (epoch =   21, loss = 1.7164)\n",
      "Saving model (epoch =   22, loss = 1.6455)\n",
      "Saving model (epoch =   23, loss = 1.5912)\n",
      "Saving model (epoch =   24, loss = 1.5599)\n",
      "Saving model (epoch =   25, loss = 1.5197)\n",
      "Saving model (epoch =   26, loss = 1.4698)\n",
      "Saving model (epoch =   27, loss = 1.4189)\n",
      "Saving model (epoch =   28, loss = 1.3992)\n",
      "Saving model (epoch =   29, loss = 1.3696)\n",
      "Saving model (epoch =   30, loss = 1.3442)\n",
      "Saving model (epoch =   31, loss = 1.3231)\n",
      "Saving model (epoch =   32, loss = 1.2834)\n",
      "Saving model (epoch =   33, loss = 1.2804)\n",
      "Saving model (epoch =   34, loss = 1.2471)\n",
      "Saving model (epoch =   36, loss = 1.2414)\n",
      "Saving model (epoch =   37, loss = 1.2138)\n",
      "Saving model (epoch =   38, loss = 1.2083)\n",
      "Saving model (epoch =   41, loss = 1.1591)\n",
      "Saving model (epoch =   42, loss = 1.1484)\n",
      "Saving model (epoch =   44, loss = 1.1209)\n",
      "Saving model (epoch =   47, loss = 1.1122)\n",
      "Saving model (epoch =   48, loss = 1.0937)\n",
      "Saving model (epoch =   50, loss = 1.0842)\n",
      "Saving model (epoch =   53, loss = 1.0654)\n",
      "Saving model (epoch =   54, loss = 1.0613)\n",
      "Saving model (epoch =   57, loss = 1.0525)\n",
      "Saving model (epoch =   58, loss = 1.0395)\n",
      "Saving model (epoch =   60, loss = 1.0265)\n",
      "Saving model (epoch =   63, loss = 1.0248)\n",
      "Saving model (epoch =   66, loss = 1.0098)\n",
      "Saving model (epoch =   70, loss = 0.9828)\n",
      "Saving model (epoch =   72, loss = 0.9813)\n",
      "Saving model (epoch =   73, loss = 0.9740)\n",
      "Saving model (epoch =   75, loss = 0.9672)\n",
      "Saving model (epoch =   78, loss = 0.9642)\n",
      "Saving model (epoch =   79, loss = 0.9594)\n",
      "Saving model (epoch =   85, loss = 0.9544)\n",
      "Saving model (epoch =   86, loss = 0.9528)\n",
      "Saving model (epoch =   90, loss = 0.9464)\n",
      "Saving model (epoch =   92, loss = 0.9432)\n",
      "Saving model (epoch =   93, loss = 0.9230)\n",
      "Saving model (epoch =   95, loss = 0.9126)\n",
      "Saving model (epoch =  104, loss = 0.9117)\n",
      "Saving model (epoch =  107, loss = 0.8998)\n",
      "Saving model (epoch =  110, loss = 0.8940)\n",
      "Saving model (epoch =  116, loss = 0.8890)\n",
      "Saving model (epoch =  124, loss = 0.8874)\n",
      "Saving model (epoch =  128, loss = 0.8729)\n",
      "Saving model (epoch =  134, loss = 0.8728)\n",
      "Saving model (epoch =  139, loss = 0.8686)\n",
      "Saving model (epoch =  146, loss = 0.8657)\n",
      "Saving model (epoch =  156, loss = 0.8644)\n",
      "Saving model (epoch =  159, loss = 0.8530)\n",
      "Saving model (epoch =  167, loss = 0.8498)\n",
      "Saving model (epoch =  173, loss = 0.8492)\n",
      "Saving model (epoch =  176, loss = 0.8462)\n",
      "Saving model (epoch =  178, loss = 0.8409)\n",
      "Saving model (epoch =  182, loss = 0.8376)\n",
      "Saving model (epoch =  199, loss = 0.8297)\n",
      "Saving model (epoch =  212, loss = 0.8274)\n",
      "Saving model (epoch =  235, loss = 0.8254)\n",
      "Saving model (epoch =  238, loss = 0.8233)\n",
      "Saving model (epoch =  251, loss = 0.8206)\n",
      "Saving model (epoch =  253, loss = 0.8199)\n",
      "Saving model (epoch =  258, loss = 0.8171)\n",
      "Saving model (epoch =  284, loss = 0.8137)\n",
      "Saving model (epoch =  308, loss = 0.8137)\n",
      "Saving model (epoch =  312, loss = 0.8077)\n",
      "Saving model (epoch =  324, loss = 0.8042)\n",
      "Saving model (epoch =  400, loss = 0.8034)\n",
      "Saving model (epoch =  404, loss = 0.8008)\n",
      "Saving model (epoch =  466, loss = 0.7993)\n",
      "Saving model (epoch =  472, loss = 0.7992)\n",
      "Saving model (epoch =  525, loss = 0.7991)\n",
      "Saving model (epoch =  561, loss = 0.7938)\n",
      "Saving model (epoch =  584, loss = 0.7896)\n",
      "Saving model (epoch =  650, loss = 0.7896)\n",
      "Saving model (epoch =  665, loss = 0.7895)\n",
      "Saving model (epoch =  667, loss = 0.7880)\n",
      "Saving model (epoch =  717, loss = 0.7813)\n",
      "Saving model (epoch =  776, loss = 0.7806)\n",
      "Saving model (epoch =  835, loss = 0.7803)\n",
      "Saving model (epoch =  866, loss = 0.7765)\n",
      "Saving model (epoch =  919, loss = 0.7758)\n",
      "Saving model (epoch =  933, loss = 0.7743)\n",
      "Saving model (epoch =  965, loss = 0.7700)\n",
      "Finished training after 1000 epochs\n"
     ]
    }
   ],
   "source": [
    "model_loss, model_loss_record = train(tr_set, vl_set, model, criterion, optimizer, save_path='model.pth', device=device)"
   ]
  },
  {
   "cell_type": "code",
   "execution_count": 18,
   "id": "70fc943f-22c3-4439-9be3-c24a1560a569",
   "metadata": {
    "tags": []
   },
   "outputs": [
    {
     "data": {
      "image/png": "[encoded data removed]",
      "text/plain": [
       "<Figure size 600x400 with 1 Axes>"
      ]
     },
     "metadata": {},
     "output_type": "display_data"
    }
   ],
   "source": [
    "plot_learning_curve(model_loss_record, title='deep model')"
   ]
  },
  {
   "cell_type": "code",
   "execution_count": 19,
   "id": "a9ee0211-77bf-40c0-a6af-99eaf07625b1",
   "metadata": {
    "tags": []
   },
   "outputs": [
    {
     "data": {
      "image/png": "[encoded data removed]",
      "text/plain": [
       "<Figure size 500x500 with 1 Axes>"
      ]
     },
     "metadata": {},
     "output_type": "display_data"
    }
   ],
   "source": [
    "del model\n",
    "model = NeuralNet(tr_set.dataset.dim).to(device)\n",
    "ckpt = torch.load('model.pth', map_location='cpu')  # Load your best model\n",
    "model.load_state_dict(ckpt)\n",
    "plot_pred(vl_set, model, device)  # Show prediction on the validation set"
   ]
  },
  {
   "cell_type": "code",
   "execution_count": 20,
   "id": "205c1740-bc18-46c6-aaeb-465741cf502f",
   "metadata": {
    "tags": []
   },
   "outputs": [
    {
     "name": "stdout",
     "output_type": "stream",
     "text": [
      "Saving results to pred.csv\n"
     ]
    }
   ],
   "source": [
    "def save_pred(preds, file):\n",
    "    ''' Save predictions to specified file '''\n",
    "    print('Saving results to {}'.format(file))\n",
    "    with open(file, 'w') as fp:\n",
    "        writer = csv.writer(fp)\n",
    "        writer.writerow(['id', 'tested_positive'])\n",
    "        for i, p in enumerate(preds):\n",
    "            writer.writerow([i, p])\n",
    "\n",
    "preds = test(tt_set, model, device)  # predict COVID-19 cases with your model\n",
    "save_pred(preds, 'pred.csv')         # save prediction file to pred.csv"
   ]
  },
  {
   "cell_type": "code",
   "execution_count": null,
   "id": "f63f667a-3e62-4e94-a512-62fe554f31c7",
   "metadata": {},
   "outputs": [],
   "source": []
  }
 ],
 "metadata": {
  "kernelspec": {
   "display_name": "Python 3 (ipykernel)",
   "language": "python",
   "name": "python3"
  },
  "language_info": {
   "codemirror_mode": {
    "name": "ipython",
    "version": 3
   },
   "file_extension": ".py",
   "mimetype": "text/x-python",
   "name": "python",
   "nbconvert_exporter": "python",
   "pygments_lexer": "ipython3",
   "version": "3.11.4"
  }
 },
 "nbformat": 4,
 "nbformat_minor": 5
}
